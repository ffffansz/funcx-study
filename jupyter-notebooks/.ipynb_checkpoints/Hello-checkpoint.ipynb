{
 "cells": [
  {
   "cell_type": "code",
   "execution_count": 1,
   "metadata": {},
   "outputs": [],
   "source": [
    "from funcx.sdk.client import FuncXClient\n",
    "\n",
    "fxc = FuncXClient()"
   ]
  },
  {
   "cell_type": "code",
   "execution_count": 2,
   "metadata": {},
   "outputs": [],
   "source": [
    "# 函数定义\n",
    "def say_hi(name):\n",
    "    import os, datetime, time\n",
    "    stdout = os.popen(\"echo FuncX says hi to %s at %s.\" % (name, str(datetime.date.today()))).read()"
   ]
  },
  {
   "cell_type": "code",
   "execution_count": 3,
   "metadata": {},
   "outputs": [],
   "source": [
    "# 函数注册，返回一个UUID，唯一标识该函数\n",
    "hi_function = fxc.register_function(say_hi)\n",
    "print(hi_function)"
   ]
  },
  {
   "cell_type": "code",
   "execution_count": 4,
   "metadata": {},
   "outputs": [
    {
     "name": "stdout",
     "output_type": "stream",
     "text": [
      "0224435c-da25-4492-a4aa-561c7b0625bb\n"
     ]
    }
   ],
   "source": [
    "# 指定Endpoint，运行函数\n",
    "personal_endpoint = '2228201b-cd2a-4ca9-aa5a-78fb5b3ed2f1'\n",
    "name = \"Libre\"\n",
    "res = fxc.run(name, endpoint_id=personal_endpoint, function_id=hi_function)\n",
    "print(res)"
   ]
  },
  {
   "cell_type": "code",
   "execution_count": 5,
   "metadata": {},
   "outputs": [
    {
     "name": "stdout",
     "output_type": "stream",
     "text": [
      "None\n"
     ]
    }
   ],
   "source": [
    "# 获取结果\n",
    "print(fxc.get_result(res))"
   ]
  }
 ],
 "metadata": {
  "kernelspec": {
   "display_name": "Python 3",
   "language": "python",
   "name": "python3"
  },
  "language_info": {
   "codemirror_mode": {
    "name": "ipython",
    "version": 3
   },
   "file_extension": ".py",
   "mimetype": "text/x-python",
   "name": "python",
   "nbconvert_exporter": "python",
   "pygments_lexer": "ipython3",
   "version": "3.8.6"
  }
 },
 "nbformat": 4,
 "nbformat_minor": 4
}
