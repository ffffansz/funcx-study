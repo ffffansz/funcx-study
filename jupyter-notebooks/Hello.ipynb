{
 "cells": [
  {
   "cell_type": "code",
   "execution_count": 1,
   "metadata": {},
   "outputs": [],
   "source": [
    "from funcx.sdk.client import FuncXClient\n",
    "\n",
    "fxc = FuncXClient()"
   ]
  },
  {
   "cell_type": "code",
   "execution_count": 2,
   "metadata": {},
   "outputs": [],
   "source": [
    "# 函数定义及声明\n",
    "def say_hi(name):\n",
    "    from datetime import date\n",
    "    return str.format(\"Funcx says hi to {0} at \", name) + str(date.today())"
   ]
  },
  {
   "cell_type": "code",
   "execution_count": 3,
   "metadata": {},
   "outputs": [],
   "source": [
    "# 函数注册，返回一个UUID，唯一标识该函数\n",
    "hi_function = fxc.register_function(say_hi)"
   ]
  },
  {
   "cell_type": "code",
   "execution_count": 4,
   "metadata": {},
   "outputs": [],
   "source": [
    "# 指定Endpoint，运行函数\n",
    "personal_endpoint = 'bd67b44a-a9d5-4ff1-891e-f85e4b185140'\n",
    "name = \"Libre\"\n",
    "res = fxc.run(name, endpoint_id=personal_endpoint, function_id=hi_function)"
   ]
  },
  {
   "cell_type": "code",
   "execution_count": 5,
   "metadata": {},
   "outputs": [
    {
     "name": "stdout",
     "output_type": "stream",
     "text": [
      "Funcx says hi to Libre at 2020-10-05\n"
     ]
    }
   ],
   "source": [
    "# 获取结果\n",
    "import time\n",
    "time.sleep(3)\n",
    "print(fxc.get_result(res))"
   ]
  }
 ],
 "metadata": {
  "kernelspec": {
   "display_name": "Python 3",
   "language": "python",
   "name": "python3"
  },
  "language_info": {
   "codemirror_mode": {
    "name": "ipython",
    "version": 3
   },
   "file_extension": ".py",
   "mimetype": "text/x-python",
   "name": "python",
   "nbconvert_exporter": "python",
   "pygments_lexer": "ipython3",
   "version": "3.8.6"
  }
 },
 "nbformat": 4,
 "nbformat_minor": 4
}
